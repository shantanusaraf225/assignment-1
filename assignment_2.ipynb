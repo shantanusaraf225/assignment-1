{
 "cells": [
  {
   "cell_type": "markdown",
   "id": "f225a9eb",
   "metadata": {},
   "source": [
    "## 1.What are the two values of the boolean data types? how do you write them ?\n",
    "\n",
    "### Answer: \n",
    "Two values of the boolen data types are True and False. We have to use capital T and F and with the rest of the word in lowercase. The type() of both False and True is bool. The type bool is built in, meaning it’s always available in Python and doesn’t need to be imported. However, the name itself isn’t a keyword in the language."
   ]
  },
  {
   "cell_type": "code",
   "execution_count": 1,
   "id": "59bdcb4c",
   "metadata": {},
   "outputs": [
    {
     "name": "stdout",
     "output_type": "stream",
     "text": [
      "True <class 'bool'>\n",
      "False <class 'bool'>\n"
     ]
    }
   ],
   "source": [
    "a=True\n",
    "b=False\n",
    "print(a,type(a))\n",
    "print(b,type(b))"
   ]
  },
  {
   "cell_type": "markdown",
   "id": "c863c5a8",
   "metadata": {},
   "source": [
    "## 2. What are the three different types of Boolean operators?\n",
    "### Answer:\n",
    "The three differnt types of Boolean operators present in python are: and, or, not."
   ]
  },
  {
   "cell_type": "code",
   "execution_count": 2,
   "id": "6a415132",
   "metadata": {},
   "outputs": [
    {
     "name": "stdout",
     "output_type": "stream",
     "text": [
      "True\n",
      "True\n",
      "True\n"
     ]
    }
   ],
   "source": [
    "a=10\n",
    "b=20\n",
    "print(a>5 and b>10) # Example of boolean and\n",
    "print(a>2 or b>10) # Example of boolean or\n",
    "print(not(a>11)) # Example of boolean not"
   ]
  },
  {
   "cell_type": "markdown",
   "id": "c214ce07",
   "metadata": {},
   "source": [
    "##  3.Make a list of each Boolean operator's truth tables (i.e. every possible combination of Boolean values for the operator and what it evaluate)\n",
    "### Answer:\n",
    "#### Truth Table for and operator\n",
    "True and True --> True\n",
    "\n",
    "True and False --> False\n",
    "\n",
    "False and True --> False\n",
    "\n",
    "False and False --> False\n",
    "\n",
    "#### Truth Table for or operator\n",
    "True or True --> True\n",
    "\n",
    "True or False --> True\n",
    "\n",
    "False or True --> True\n",
    "\n",
    "False or False --> False\n",
    "\n",
    "\n",
    "#### Truth Table for not operator\n",
    "True not --> False\n",
    "\n",
    "False not --> True\n"
   ]
  },
  {
   "cell_type": "markdown",
   "id": "4f7a182a",
   "metadata": {},
   "source": [
    "## 4.What are the values of the following expressions ?\n",
    "(5 > 4) and (3 == 5)\n",
    "\n",
    "not (5 > 4)\n",
    "\n",
    "(5 > 4) or (3 == 5)\n",
    "\n",
    "not ((5 > 4) or (3 == 5))\n",
    "\n",
    "(True and True) and (True == False)\n",
    "\n",
    "(not False) or (not True)\n",
    "### Answer:\n",
    "1. False\n",
    "2. False\n",
    "3. True\n",
    "4. False\n",
    "5. False\n",
    "6. True"
   ]
  },
  {
   "cell_type": "code",
   "execution_count": 4,
   "id": "bc434fa0",
   "metadata": {},
   "outputs": [
    {
     "name": "stdout",
     "output_type": "stream",
     "text": [
      "False\n",
      "False\n",
      "True\n",
      "False\n",
      "False\n",
      "True\n"
     ]
    }
   ],
   "source": [
    "print((5>4)and(3==5)) \n",
    "print(not(5>4))\n",
    "print((5>4)or(3==5)) \n",
    "print(not((5>4)or(3==5))) \n",
    "print((True and True)and(True==False))\n",
    "print((not False)or(not True))"
   ]
  },
  {
   "cell_type": "markdown",
   "id": "02449500",
   "metadata": {},
   "source": [
    "## 5. What are the six comparison operators?\n",
    "### Answer:\n",
    "The Six Comparision Operators available in python are:\n",
    "\n",
    "(==) is equal to\n",
    "\n",
    "(!=) is not equal to \n",
    "\n",
    "(>)  greater than\n",
    "\n",
    "(<)  less than\n",
    "\n",
    "(<=) greater than and equal to\n",
    "\n",
    "(=>)  less than and equal "
   ]
  },
  {
   "cell_type": "markdown",
   "id": "6a7be1aa",
   "metadata": {},
   "source": [
    "## 6. How do you tell the difference between the equal to and assignment operators? Describe a condition and when you would use one?\n",
    "### Answer:\n",
    "\"==\" is the equal to operator that compares two values and evaluates to a Boolean, while \"=\" is that assignment operator that stores a value in a variable.\n"
   ]
  },
  {
   "cell_type": "code",
   "execution_count": 5,
   "id": "d5426db1",
   "metadata": {},
   "outputs": [
    {
     "name": "stdout",
     "output_type": "stream",
     "text": [
      "False\n"
     ]
    }
   ],
   "source": [
    "b=10 # Assigning operator that stores 3 value in a variable a\n",
    "if b==10:#comparing values of a varible value and 3\n",
    "    print(b==3)  "
   ]
  },
  {
   "cell_type": "markdown",
   "id": "3625f116",
   "metadata": {},
   "source": [
    "## 7. Identify the three blocks in this code:\n",
    "spam = 0\n",
    "if spam == 10:\n",
    "print('eggs')\n",
    "if spam > 5:\n",
    "print('bacon')\n",
    "else:\n",
    "print('ham')\n",
    "print('spam')\n",
    "print('spam')\n",
    "### Answer:\n",
    "In Python, code block refers to a collection of code that is in the same block or indent. This is most commonly found in classes, functions, and loops. Here, in above code first block is \"if span == 10\", second block is \" if spam > \" and third block is \"else\". "
   ]
  },
  {
   "cell_type": "code",
   "execution_count": 6,
   "id": "93d560a5",
   "metadata": {},
   "outputs": [
    {
     "name": "stdout",
     "output_type": "stream",
     "text": [
      "ham\n",
      "spam\n",
      "spam\n"
     ]
    }
   ],
   "source": [
    "spam = 0  \n",
    "if spam == 10:  \n",
    "    print('eggs')  # block #1\n",
    "if spam > 5:  \n",
    "    print('bacon')  # block #2\n",
    "else:  \n",
    "    print('ham')  # block #3\n",
    "print('spam')  \n",
    "print('spam')"
   ]
  },
  {
   "cell_type": "markdown",
   "id": "87d2c676",
   "metadata": {},
   "source": [
    "## 8. Write code that prints Hello if 1 is stored in spam, prints Howdy if 2 is stored in spam, and prints Greetings! if anything else is stored in spam."
   ]
  },
  {
   "cell_type": "code",
   "execution_count": 8,
   "id": "00be7dde",
   "metadata": {},
   "outputs": [
    {
     "name": "stdout",
     "output_type": "stream",
     "text": [
      "Hello\n",
      "Howdy\n",
      "Greetings\n"
     ]
    }
   ],
   "source": [
    "def shantanu(spam):\n",
    "    if spam==1:\n",
    "        print('Hello')\n",
    "    elif spam==2:\n",
    "        print('Howdy')\n",
    "    else:\n",
    "        print('Greetings')\n",
    "        \n",
    "shantanu(1) \n",
    "shantanu(2)\n",
    "shantanu(535)"
   ]
  },
  {
   "cell_type": "markdown",
   "id": "81a87878",
   "metadata": {},
   "source": [
    "## 9.If your programme is stuck in an endless loop, what keys you’ll press?\n",
    "### Answer:\n",
    "To stop a program stuck in an infinite loop, we press Ctrl+c."
   ]
  },
  {
   "cell_type": "markdown",
   "id": "5ac5d581",
   "metadata": {},
   "source": [
    "## 10. How can you tell the difference between break and continue?\n",
    "### Answer:\n",
    " The break statement will move the execution outside the loop if break condtion is satisfied whereas the continue statement will move the execution to the start of the loop. Example of break and continue is mentioned below:"
   ]
  },
  {
   "cell_type": "code",
   "execution_count": 11,
   "id": "90524f7e",
   "metadata": {},
   "outputs": [
    {
     "name": "stdout",
     "output_type": "stream",
     "text": [
      "s\n",
      "h\n",
      "a\n",
      "n\n",
      "Program ended here because the conditon for break statement satisfies\n"
     ]
    }
   ],
   "source": [
    "# Use of break statement inside the loop\n",
    "\n",
    "for val in \"shantanu\":\n",
    "    if val == \"t\":\n",
    "        break\n",
    "    print(val)\n",
    "\n",
    "print(\"Program ended here because the conditon for break statement satisfies\")"
   ]
  },
  {
   "cell_type": "code",
   "execution_count": 12,
   "id": "3684b420",
   "metadata": {},
   "outputs": [
    {
     "name": "stdout",
     "output_type": "stream",
     "text": [
      "s\n",
      "h\n",
      "a\n",
      "n\n",
      "a\n",
      "n\n",
      "u\n",
      "Program continued smoothly after the condition for continue statement statisfies\n"
     ]
    }
   ],
   "source": [
    "# Program to show the use of continue statement inside loops\n",
    "\n",
    "for val in \"shantanu\":\n",
    "    if val == \"t\":\n",
    "        continue\n",
    "    print(val)\n",
    "\n",
    "print(\"Program continued smoothly after the condition for continue statement statisfies\")"
   ]
  },
  {
   "cell_type": "markdown",
   "id": "75fcabed",
   "metadata": {},
   "source": [
    "## 11. In a for loop, what is the difference between range(10), range(0, 10), and range(0, 10, 1)?\n",
    "### Answer:\n",
    "The Differences are as follows:\n",
    "\n",
    "1. The range(10) call range from 0 to 9 (but not include 10)\n",
    "2. The range (0,10) explicitly tells the loop to start at 0\n",
    "3. The range(0,10,1) explicitly tells the loop to increase the variable by 1 on each iteration\n"
   ]
  },
  {
   "cell_type": "markdown",
   "id": "d6cb8789",
   "metadata": {},
   "source": [
    "## 12. Write a short program that prints the numbers 1 to 10 using a for loop. Then write an equivalent program that prints the numbers 1 to 10 using a while loop ?"
   ]
  },
  {
   "cell_type": "code",
   "execution_count": 13,
   "id": "03a7221c",
   "metadata": {},
   "outputs": [
    {
     "name": "stdout",
     "output_type": "stream",
     "text": [
      "1\n",
      "2\n",
      "3\n",
      "4\n",
      "5\n",
      "6\n",
      "7\n",
      "8\n",
      "9\n",
      "10\n"
     ]
    }
   ],
   "source": [
    "# Program Using For Loop\n",
    "for i in range(1,11):\n",
    "    print(i)"
   ]
  },
  {
   "cell_type": "code",
   "execution_count": 15,
   "id": "cd434f07",
   "metadata": {},
   "outputs": [
    {
     "name": "stdout",
     "output_type": "stream",
     "text": [
      "1\n",
      "2\n",
      "3\n",
      "4\n",
      "5\n",
      "6\n",
      "7\n",
      "8\n",
      "9\n",
      "10\n"
     ]
    }
   ],
   "source": [
    "# Program Using While Loop\n",
    "i=1\n",
    "while i<=10:\n",
    "    print(i)\n",
    "    i+=1"
   ]
  },
  {
   "cell_type": "markdown",
   "id": "e31c4b56",
   "metadata": {},
   "source": [
    "## 13. If you had a function named bacon() inside a module named spam, how would you call it after importing spam ?\n",
    "### Answer:\n",
    "This function can be called with spam.bacon()"
   ]
  },
  {
   "cell_type": "code",
   "execution_count": null,
   "id": "760a23d3",
   "metadata": {},
   "outputs": [],
   "source": []
  }
 ],
 "metadata": {
  "kernelspec": {
   "display_name": "Python 3 (ipykernel)",
   "language": "python",
   "name": "python3"
  },
  "language_info": {
   "codemirror_mode": {
    "name": "ipython",
    "version": 3
   },
   "file_extension": ".py",
   "mimetype": "text/x-python",
   "name": "python",
   "nbconvert_exporter": "python",
   "pygments_lexer": "ipython3",
   "version": "3.9.7"
  }
 },
 "nbformat": 4,
 "nbformat_minor": 5
}
