{
 "cells": [
  {
   "cell_type": "markdown",
   "id": "3af2896b",
   "metadata": {},
   "source": [
    "## 1.What exactly is [ ]?\n",
    "### ANSWER :\n",
    "The empty list represented by [] is a list that contains no items. This is similar to '' which represents an empty string"
   ]
  },
  {
   "cell_type": "code",
   "execution_count": 1,
   "id": "baf7b6ac",
   "metadata": {},
   "outputs": [
    {
     "name": "stdout",
     "output_type": "stream",
     "text": [
      "Values of a: []\n",
      "Type of a: <class 'list'>\n",
      "Size of a: 0\n"
     ]
    }
   ],
   "source": [
    "# Python program to declare empty list\n",
    "\n",
    "# list is declared\n",
    "a = []\n",
    "\n",
    "print(\"Values of a:\", a)\n",
    "print(\"Type of a:\", type(a))\n",
    "print(\"Size of a:\", len(a))"
   ]
  },
  {
   "cell_type": "markdown",
   "id": "cb93653a",
   "metadata": {},
   "source": [
    "## the value 'hello' as the third value? (Assume [2, 4, 6, 8, 10] are in spam.)\n",
    "### ANSWER :\n",
    "spam[2]='hello' (Note: Lists follows zero based indexing)"
   ]
  },
  {
   "cell_type": "code",
   "execution_count": 2,
   "id": "274f3dca",
   "metadata": {},
   "outputs": [
    {
     "name": "stdout",
     "output_type": "stream",
     "text": [
      "[2, 4, 6, 8, 10]\n",
      "[2, 4, 'hello', 8, 10]\n"
     ]
    }
   ],
   "source": [
    "# Example\n",
    "spam=[2,4,6,8,10]\n",
    "print(spam)\n",
    "spam[2]='hello' #List uses zero based indexing\n",
    "print(spam)"
   ]
  },
  {
   "cell_type": "markdown",
   "id": "57535a69",
   "metadata": {},
   "source": [
    "## 3. What is the value of spam[int(int('3'*2)//11)] ?\n",
    "### ANSWER :"
   ]
  },
  {
   "cell_type": "code",
   "execution_count": 11,
   "id": "71dd8ebf",
   "metadata": {},
   "outputs": [],
   "source": [
    "# Let spam be a list containing \"a\",\"b\",\"c\",\"d\",\"e\" values.\n",
    "spam = ['a','b','c','d','e']"
   ]
  },
  {
   "cell_type": "markdown",
   "id": "cc48e02e",
   "metadata": {},
   "source": [
    "'d' ('3' * 2 is the string '33', which is passed to int() before being divided by 11. This eventually evaluates to 3, spam[3] is equal to d.)"
   ]
  },
  {
   "cell_type": "code",
   "execution_count": 8,
   "id": "dc9b7299",
   "metadata": {},
   "outputs": [
    {
     "data": {
      "text/plain": [
       "'d'"
      ]
     },
     "execution_count": 8,
     "metadata": {},
     "output_type": "execute_result"
    }
   ],
   "source": [
    "spam[int(int('3'*2)//11)]"
   ]
  },
  {
   "cell_type": "markdown",
   "id": "6eebda26",
   "metadata": {},
   "source": [
    "## 4. What is the value of spam[-1]?\n",
    "### ANSWER :\n",
    "'e' (Lists support Negative indexing, Hence spam[-1] returs 'e'). -1 index returns last item of the list"
   ]
  },
  {
   "cell_type": "code",
   "execution_count": 9,
   "id": "3b8b2f13",
   "metadata": {},
   "outputs": [
    {
     "data": {
      "text/plain": [
       "'e'"
      ]
     },
     "execution_count": 9,
     "metadata": {},
     "output_type": "execute_result"
    }
   ],
   "source": [
    "spam[-1]"
   ]
  },
  {
   "cell_type": "markdown",
   "id": "15817623",
   "metadata": {},
   "source": [
    "## 5. What is the value of spam[:2]?\n",
    "### ANSWER :\n",
    "spam[:2] returns all elements in the list spam from 0 to 2 excluding 2"
   ]
  },
  {
   "cell_type": "code",
   "execution_count": 10,
   "id": "1b88101b",
   "metadata": {},
   "outputs": [
    {
     "name": "stdout",
     "output_type": "stream",
     "text": [
      "['a', 'b', 'c', 'd', 'e']\n",
      "['a', 'b']\n"
     ]
    }
   ],
   "source": [
    "print(spam)\n",
    "print(spam[:2])"
   ]
  },
  {
   "cell_type": "markdown",
   "id": "8566b44a",
   "metadata": {},
   "source": [
    "## 6. What is the value of bacon.index('cat')?\n",
    "### ANSWER :\n"
   ]
  },
  {
   "cell_type": "code",
   "execution_count": 12,
   "id": "73896ad8",
   "metadata": {},
   "outputs": [],
   "source": [
    "# Let's assume bacon is a list containing [3.14,'cat',11,'cat',True] values.\n",
    "bacon=[3.14,'cat',11,'cat',True]"
   ]
  },
  {
   "cell_type": "markdown",
   "id": "4656523d",
   "metadata": {},
   "source": [
    "The value of bacon.index('cat') is 1 (Index method returns the index of first occuerence of 'cat')"
   ]
  },
  {
   "cell_type": "code",
   "execution_count": 13,
   "id": "c228efe1",
   "metadata": {},
   "outputs": [
    {
     "data": {
      "text/plain": [
       "1"
      ]
     },
     "execution_count": 13,
     "metadata": {},
     "output_type": "execute_result"
    }
   ],
   "source": [
    "bacon.index('cat')"
   ]
  },
  {
   "cell_type": "markdown",
   "id": "56d66cea",
   "metadata": {},
   "source": [
    "## 7. How does bacon.append(99) change the look of the list value in bacon?\n",
    "### ANSWER :\n",
    "The append method adds new elements to the end of the list"
   ]
  },
  {
   "cell_type": "code",
   "execution_count": 14,
   "id": "40b5752b",
   "metadata": {},
   "outputs": [
    {
     "name": "stdout",
     "output_type": "stream",
     "text": [
      "[3.14, 'cat', 11, 'cat', True]\n",
      "[3.14, 'cat', 11, 'cat', True, 99]\n"
     ]
    }
   ],
   "source": [
    "# Example\n",
    "print(bacon)\n",
    "bacon.append(99) # appends 99 to the end of the list\n",
    "print(bacon)"
   ]
  },
  {
   "cell_type": "markdown",
   "id": "855a02f6",
   "metadata": {},
   "source": [
    "## 8. How does bacon.remove('cat') change the look of the list in bacon?\n",
    "### ANSWER :\n",
    "The remove method removes the first occurence of the element in the list"
   ]
  },
  {
   "cell_type": "code",
   "execution_count": 15,
   "id": "8de77a5b",
   "metadata": {},
   "outputs": [
    {
     "name": "stdout",
     "output_type": "stream",
     "text": [
      "[3.14, 'cat', 11, 'cat', True, 99]\n",
      "[3.14, 11, 'cat', True, 99]\n"
     ]
    }
   ],
   "source": [
    "print(bacon)\n",
    "bacon.remove('cat')\n",
    "print(bacon)"
   ]
  },
  {
   "cell_type": "markdown",
   "id": "275c6c0f",
   "metadata": {},
   "source": [
    "## 9.what are the list concatenation and list replication operations?\n",
    "### ANSWER :\n",
    " The operator for list concatenation is +, while the operator for replication is *. (This is the same as for strings.)"
   ]
  },
  {
   "cell_type": "code",
   "execution_count": 16,
   "id": "45b8e2cc",
   "metadata": {},
   "outputs": [
    {
     "name": "stdout",
     "output_type": "stream",
     "text": [
      "['ML', 'DL', 'AI', 'CV', 'NLP', 'RNN', 'CNN', 'SVN']\n",
      "['RNN', 'CNN', 'SVN', 'RNN', 'CNN', 'SVN']\n"
     ]
    }
   ],
   "source": [
    "# Example\n",
    "list_1 = ['ML','DL','AI','CV','NLP']\n",
    "list_2 = ['RNN','CNN','SVN']\n",
    "print(list_1 + list_2) # List Concatenation\n",
    "print(list_2*2) # List Replication"
   ]
  },
  {
   "cell_type": "markdown",
   "id": "28d42d72",
   "metadata": {},
   "source": [
    "## 10.what is the difference between the list method append() and insert()?\n",
    "### ANSWER :\n",
    " While append() will add values only to the end of a list, insert() can add them anywhere in the list."
   ]
  },
  {
   "cell_type": "code",
   "execution_count": 17,
   "id": "c66e3772",
   "metadata": {},
   "outputs": [
    {
     "name": "stdout",
     "output_type": "stream",
     "text": [
      "[1, 2, 3, 4, 5, 100]\n",
      "[1, 2, 'iNeuron', 3, 4, 5, 100]\n"
     ]
    }
   ],
   "source": [
    "#Examples\n",
    "list = [1,2,3,4,5]\n",
    "list.append(100)\n",
    "print(list)\n",
    "list.insert(2,'iNeuron')\n",
    "print(list)"
   ]
  },
  {
   "cell_type": "markdown",
   "id": "d4851ef1",
   "metadata": {},
   "source": [
    "## 11. What are the two methods for removing items from a list?\n",
    "### ANSWER :\n",
    "The del statement and the remove() method are two ways to remove values from a list"
   ]
  },
  {
   "cell_type": "code",
   "execution_count": 21,
   "id": "64e6cc38",
   "metadata": {},
   "outputs": [
    {
     "name": "stdout",
     "output_type": "stream",
     "text": [
      "[1, 2, 2, 3, 4, 5]\n",
      "[1, 2, 3, 2, 3, 5]\n"
     ]
    }
   ],
   "source": [
    "# assign list\n",
    "numbers = [1, 2, 3, 2, 3, 4, 5]\n",
    "  \n",
    "# use del\n",
    "del numbers[2]\n",
    "\n",
    "print(numbers)\n",
    "\n",
    "# assign list\n",
    "numbers1 = [1, 2, 3, 2, 3, 4, 5]\n",
    "  \n",
    "# use remove()\n",
    "numbers1.remove(4)\n",
    "print(numbers1)"
   ]
  },
  {
   "cell_type": "markdown",
   "id": "6022eb8b",
   "metadata": {},
   "source": [
    "## 12. Describe how list values and string values are identical.\n",
    "### ANSWER :\n",
    "Below are some reasons how list values and string values are identical:\n",
    "\n",
    "1. Both lists and strings can be passed to len() function\n",
    "2. Have indexes and slices, be used in for loops,\n",
    "3. Can be concatenated or replicated\n",
    "4. Can be used with the in and not in operators."
   ]
  },
  {
   "cell_type": "markdown",
   "id": "3926a9dd",
   "metadata": {},
   "source": [
    "## 13. What's the difference between tuples and lists?\n",
    "### ANSWER :\n",
    "Lists are Mutable, Indexable and Slicable. they can have values added, removed, or changed. Tuples are Immutable but Indexable and Slicable. the tuple values cannot be changed at all. Also, tuples are represented using parentheses, (), while lists use the square brackets, []."
   ]
  },
  {
   "cell_type": "code",
   "execution_count": 22,
   "id": "a42329fe",
   "metadata": {},
   "outputs": [
    {
     "name": "stdout",
     "output_type": "stream",
     "text": [
      "[1, 2, 3, 4]\n",
      "(1, 2, 3, 4)\n"
     ]
    }
   ],
   "source": [
    "list_num = [1,2,3,4]\n",
    "tup_num = (1,2,3,4)\n",
    "\n",
    "print(list_num)\n",
    "print(tup_num)"
   ]
  },
  {
   "cell_type": "markdown",
   "id": "bacb666f",
   "metadata": {},
   "source": [
    "## 14. How do you type a tuple value that only contains the integer 42?\n",
    "### ANSWER :\n",
    "(42,) (The trailing comma is mandatory. otherwise its considered as a int by python Interpreter)"
   ]
  },
  {
   "cell_type": "code",
   "execution_count": 23,
   "id": "f70912fb",
   "metadata": {},
   "outputs": [
    {
     "name": "stdout",
     "output_type": "stream",
     "text": [
      "<class 'int'>\n",
      "<class 'tuple'>\n"
     ]
    }
   ],
   "source": [
    "# Example\n",
    "tup1=(42)\n",
    "tup2=(42,)\n",
    "print(type(tup1))\n",
    "print(type(tup2))"
   ]
  },
  {
   "cell_type": "markdown",
   "id": "7df55e7c",
   "metadata": {},
   "source": [
    "## 15. How do you get a list value's tuple form? How do you get a tuple value's list form?\n",
    "### ANSWER :\n",
    " The tuple() and list() functions, respectively are used to convert a list to tuple and vice versa"
   ]
  },
  {
   "cell_type": "markdown",
   "id": "f4f5a15e",
   "metadata": {},
   "source": [
    "## 16. Variables that \"contain\" list values are not necessarily lists themselves. Instead, what do they contain?\n",
    "### ANSWER :\n",
    "They contain references to list values."
   ]
  },
  {
   "cell_type": "markdown",
   "id": "166b3f84",
   "metadata": {},
   "source": [
    "## 17. How do you distinguish between copy.copy() and copy.deepcopy()?\n",
    "### ANSWER :\n",
    "The copy.copy() function will do a shallow copy of a list, while the copy.deepcopy() function will do a deep copy of a list. That is, only copy.deepcopy() will duplicate any lists inside the list."
   ]
  },
  {
   "cell_type": "code",
   "execution_count": 26,
   "id": "8453e230",
   "metadata": {},
   "outputs": [],
   "source": [
    "# importing copy module\n",
    "import copy\n",
    "\n",
    "# initializing list 1\n",
    "li1 = [1, 2, [3,5], 4]\n",
    "\n",
    "\n",
    "# using copy for shallow copy\n",
    "li2 = copy.copy(li1)\n",
    "\n",
    "# using deepcopy for deepcopy\n",
    "li3 = copy.deepcopy(li1)\n"
   ]
  },
  {
   "cell_type": "code",
   "execution_count": null,
   "id": "ee27392d",
   "metadata": {},
   "outputs": [],
   "source": []
  }
 ],
 "metadata": {
  "kernelspec": {
   "display_name": "Python 3 (ipykernel)",
   "language": "python",
   "name": "python3"
  },
  "language_info": {
   "codemirror_mode": {
    "name": "ipython",
    "version": 3
   },
   "file_extension": ".py",
   "mimetype": "text/x-python",
   "name": "python",
   "nbconvert_exporter": "python",
   "pygments_lexer": "ipython3",
   "version": "3.9.7"
  }
 },
 "nbformat": 4,
 "nbformat_minor": 5
}
